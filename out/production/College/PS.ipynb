{
 "cells": [
  {
   "cell_type": "code",
   "execution_count": null,
   "id": "60ca4124",
   "metadata": {},
   "outputs": [
    {
     "name": "stdout",
     "output_type": "stream",
     "text": [
      "Descriptive Statistics:\n",
      "Mean: 81.6\n",
      "Median: 88\n",
      "Mode: 88\n",
      "Range: 26\n",
      "Variance: 119.3\n",
      "Standard Deviation: 10.92\n"
     ]
    }
   ],
   "source": [
    "# Exp 2\n",
    "\n",
    "# import statistics\n",
    "\n",
    "import statistics\n",
    "\n",
    "# Sample dataset\n",
    "data = [88, 88, 76, 91, 65]\n",
    "\n",
    "# Calculating descriptive statistics\n",
    "mean_value = statistics.mean(data)\n",
    "median_value = statistics.median(data)\n",
    "mode_value = statistics.mode(data)\n",
    "range_value = max(data) - min(data)\n",
    "variance_value = statistics.variance(data)\n",
    "std_dev_value = statistics.stdev(data)\n",
    "\n",
    "# Displaying results\n",
    "print(\"Descriptive Statistics:\")\n",
    "print(\"Mean:\", mean_value)\n",
    "print(\"Median:\", median_value)\n",
    "print(\"Mode:\", mode_value)\n",
    "print(\"Range:\", range_value)\n",
    "print(\"Variance:\", variance_value)\n",
    "print(\"Standard Deviation:\", round(std_dev_value, 2))\n",
    "\n",
    "\n",
    "\n",
    "\n",
    "\n",
    "\n",
    "\n"
   ]
  },
  {
   "cell_type": "code",
   "execution_count": null,
   "id": "3d3daa52",
   "metadata": {},
   "outputs": [],
   "source": []
  },
  {
   "cell_type": "code",
   "execution_count": null,
   "id": "b60ed34d",
   "metadata": {},
   "outputs": [],
   "source": []
  },
  {
   "cell_type": "code",
   "execution_count": null,
   "id": "90d87da4",
   "metadata": {},
   "outputs": [],
   "source": []
  }
 ],
 "metadata": {
  "kernelspec": {
   "display_name": "venv",
   "language": "python",
   "name": "python3"
  },
  "language_info": {
   "codemirror_mode": {
    "name": "ipython",
    "version": 3
   },
   "file_extension": ".py",
   "mimetype": "text/x-python",
   "name": "python",
   "nbconvert_exporter": "python",
   "pygments_lexer": "ipython3",
   "version": "3.12.9"
  }
 },
 "nbformat": 4,
 "nbformat_minor": 5
}
