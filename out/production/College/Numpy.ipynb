{
 "cells": [
  {
   "cell_type": "markdown",
   "id": "e628b44c",
   "metadata": {},
   "source": [
    "Creating numpy array\n"
   ]
  },
  {
   "cell_type": "code",
   "execution_count": 6,
   "id": "47e5b2e7",
   "metadata": {},
   "outputs": [
    {
     "name": "stdout",
     "output_type": "stream",
     "text": [
      "[1 2 4 5 6 7]\n"
     ]
    }
   ],
   "source": [
    "## np.array\n",
    "\n",
    "import numpy as np\n",
    "a= np.array([1,2,4,5,6,7])\n",
    "print(a)\n"
   ]
  },
  {
   "cell_type": "code",
   "execution_count": 17,
   "id": "03716d28",
   "metadata": {},
   "outputs": [
    {
     "name": "stdout",
     "output_type": "stream",
     "text": [
      "[[1 2 3]\n",
      " [3 4 5]\n",
      " [7 8 3]\n",
      " [2 4 5]]\n"
     ]
    }
   ],
   "source": [
    "# // 3d list  and 2D\n",
    "# Same element hone chahiye no. of\n",
    "import numpy as np\n",
    "\n",
    "\n",
    "b = np.array([[1,2,3], [3,4,5], [7,8,3], [2,4,5]]) \n",
    "print(b)\n",
    "\n",
    "\n"
   ]
  },
  {
   "cell_type": "code",
   "execution_count": null,
   "id": "b25ff44e",
   "metadata": {},
   "outputs": [
    {
     "data": {
      "text/plain": [
       "array([3., 4., 5.])"
      ]
     },
     "execution_count": 18,
     "metadata": {},
     "output_type": "execute_result"
    }
   ],
   "source": [
    "# //dtye \n",
    "import numpy as np\n",
    "\n",
    "np.array([3,4,5], dtype = float)\n"
   ]
  },
  {
   "cell_type": "code",
   "execution_count": 24,
   "id": "4dff76ff",
   "metadata": {},
   "outputs": [
    {
     "data": {
      "text/plain": [
       "array([12, 13, 14, 15, 16, 17, 18, 19, 20, 21, 22, 23, 24, 25, 26, 27, 28,\n",
       "       29, 30, 31, 32, 33])"
      ]
     },
     "execution_count": 24,
     "metadata": {},
     "output_type": "execute_result"
    }
   ],
   "source": [
    "# rane\n",
    "\n",
    "np.arange(12,34)"
   ]
  },
  {
   "cell_type": "code",
   "execution_count": 27,
   "id": "b785fdfd",
   "metadata": {},
   "outputs": [
    {
     "ename": "AttributeError",
     "evalue": "'numpy.ndarray' object has no attribute 'rephase'",
     "output_type": "error",
     "traceback": [
      "\u001b[31m---------------------------------------------------------------------------\u001b[39m",
      "\u001b[31mAttributeError\u001b[39m                            Traceback (most recent call last)",
      "\u001b[36mCell\u001b[39m\u001b[36m \u001b[39m\u001b[32mIn[27]\u001b[39m\u001b[32m, line 3\u001b[39m\n\u001b[32m      1\u001b[39m \u001b[38;5;66;03m## with reshape\u001b[39;00m\n\u001b[32m----> \u001b[39m\u001b[32m3\u001b[39m \u001b[43mnp\u001b[49m\u001b[43m.\u001b[49m\u001b[43marange\u001b[49m\u001b[43m(\u001b[49m\u001b[32;43m3\u001b[39;49m\u001b[43m,\u001b[49m\u001b[32;43m7\u001b[39;49m\u001b[43m)\u001b[49m\u001b[43m.\u001b[49m\u001b[43mrephase\u001b[49m(\u001b[32m3\u001b[39m,\u001b[32m6\u001b[39m)\n",
      "\u001b[31mAttributeError\u001b[39m: 'numpy.ndarray' object has no attribute 'rephase'"
     ]
    }
   ],
   "source": [
    "\n",
    "## with reshape\n",
    "\n",
    "np.arange(3,7).rephase(3,6)"
   ]
  },
  {
   "cell_type": "code",
   "execution_count": 1,
   "metadata": {},
   "outputs": [
    {
     "name": "stdout",
     "output_type": "stream",
     "text": [
      "Tuple: (1, 2, 3, 4, 5)\n",
      "List: [1, 2, 3, 4, 5]\n",
      "\n",
      "Differences:\n",
      "Tuples are immutable: 'tuple' object does not support item assignment\n",
      "Lists are mutable: [10, 2, 3, 4, 5]\n",
      "\n",
      "Homogeneous list: [1, 2, 3, 4, 5]\n",
      "Heterogeneous list: [1, 'apple', 3.14, True]\n",
      "\n",
      "Coordinates (tuple): (10, 20)\n",
      "Fruits (list): ['apple', 'banana', 'cherry']\n",
      "List after appending: ['apple', 'banana', 'cherry', 'date']\n"
     ]
    }
   ],
   "source": [
    "# Demonstrating Tuples and Lists\n",
    "\n",
    "# Creating a tuple\n",
    "my_tuple = (1, 2, 3, 4, 5)\n",
    "print(\"Tuple:\", my_tuple)\n",
    "\n",
    "# Creating a list\n",
    "my_list = [1, 2, 3, 4, 5]\n",
    "print(\"List:\", my_list)\n",
    "\n",
    "# Differences between tuples and lists\n",
    "print(\"\\nDifferences:\")\n",
    "\n",
    "# Immutability of tuples\n",
    "try:\n",
    "    my_tuple[0] = 10\n",
    "except TypeError as e:\n",
    "    print(\"Tuples are immutable:\", e)\n",
    "\n",
    "# Mutability of lists\n",
    "my_list[0] = 10\n",
    "print(\"Lists are mutable:\", my_list)\n",
    "\n",
    "# Applications of tuples and lists\n",
    "\n",
    "# Lists can be used to store homogeneous items\n",
    "homogeneous_list = [1, 2, 3, 4, 5]\n",
    "print(\"\\nHomogeneous list:\", homogeneous_list)\n",
    "\n",
    "# Lists can be used to store heterogeneous items\n",
    "heterogeneous_list = [1, \"apple\", 3.14, True]\n",
    "print(\"Heterogeneous list:\", heterogeneous_list)\n",
    "\n",
    "# Tuples are used for fixed collections of items\n",
    "coordinates = (10, 20)\n",
    "print(\"\\nCoordinates (tuple):\", coordinates)\n",
    "\n",
    "# Lists are used for dynamic collections of items\n",
    "fruits = [\"apple\", \"banana\", \"cherry\"]\n",
    "print(\"Fruits (list):\", fruits)\n",
    "\n",
    "# Adding elements to a list\n",
    "fruits.append(\"date\")\n",
    "print(\"List after appending:\", fruits)\n"
   ]
  },
  {
   "cell_type": "code",
   "execution_count": null,
   "id": "2d66131d",
   "metadata": {},
   "outputs": [],
   "source": []
  }
 ],
 "metadata": {
  "kernelspec": {
   "display_name": "venv",
   "language": "python",
   "name": "python3"
  },
  "language_info": {
   "codemirror_mode": {
    "name": "ipython",
    "version": 3
   },
   "file_extension": ".py",
   "mimetype": "text/x-python",
   "name": "python",
   "nbconvert_exporter": "python",
   "pygments_lexer": "ipython3",
   "version": "3.12.9"
  }
 },
 "nbformat": 4,
 "nbformat_minor": 5
}
